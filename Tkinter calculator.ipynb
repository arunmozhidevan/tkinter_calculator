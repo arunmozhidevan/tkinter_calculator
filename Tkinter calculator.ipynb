{
 "cells": [
  {
   "cell_type": "markdown",
   "metadata": {},
   "source": [
    "## Main Program"
   ]
  },
  {
   "cell_type": "code",
   "execution_count": 1,
   "metadata": {},
   "outputs": [],
   "source": [
    "from tkinter import *"
   ]
  },
  {
   "cell_type": "code",
   "execution_count": 2,
   "metadata": {},
   "outputs": [],
   "source": [
    "import operator\n",
    "ops = {\n",
    "    '+' : operator.add,\n",
    "    '-' : operator.sub,\n",
    "    '*' : operator.mul,\n",
    "    '/' : operator.truediv,\n",
    "    '%' : operator.mod,\n",
    "    '^' : operator.xor,\n",
    "}\n",
    "# setting order to do the operation\n",
    "calc_order = ['*','/','+','-','^']"
   ]
  },
  {
   "cell_type": "code",
   "execution_count": 3,
   "metadata": {},
   "outputs": [],
   "source": [
    "root = Tk()\n",
    "root.title('Calculator')\n",
    "tk_input = Entry(root)\n",
    "tk_input.grid(row=0, column=0, columnspan=3)"
   ]
  },
  {
   "cell_type": "code",
   "execution_count": 4,
   "metadata": {},
   "outputs": [],
   "source": [
    "def button00():\n",
    "    tk_input.insert(len(tk_input.get())+1,'1')\n",
    "    \n",
    "def button01():\n",
    "    tk_input.insert(len(tk_input.get())+1,'2')\n",
    "    \n",
    "def button02():\n",
    "    tk_input.insert(len(tk_input.get())+1,'3')\n",
    "    \n",
    "def button03():\n",
    "    tk_input.insert(len(tk_input.get())+1,'4')\n",
    "    \n",
    "def button04():\n",
    "    tk_input.insert(len(tk_input.get())+1,'5')\n",
    "    \n",
    "def button05():\n",
    "    tk_input.insert(len(tk_input.get())+1,'6')\n",
    "    \n",
    "def button06():\n",
    "    tk_input.insert(len(tk_input.get())+1,'7')\n",
    "    \n",
    "def button07():\n",
    "    tk_input.insert(len(tk_input.get())+1,'8')\n",
    "    \n",
    "def button08():\n",
    "    tk_input.insert(len(tk_input.get())+1,'9')\n",
    "    \n",
    "def button09():\n",
    "    tk_input.insert(len(tk_input.get())+1,'0')\n",
    "    \n",
    "def buttonplus():\n",
    "    tk_input.insert(len(tk_input.get())+1,' + ')\n",
    "    \n",
    "def buttonsubract():\n",
    "    tk_input.insert(len(tk_input.get())+1,' - ')\n",
    "    \n",
    "def buttonmultiply():\n",
    "    tk_input.insert(len(tk_input.get())+1,' * ')\n",
    "    \n",
    "def buttondivide():\n",
    "    tk_input.insert(len(tk_input.get())+1,' / ')\n",
    "    \n",
    "def buttonequal():\n",
    "    # Calculation based on operation\n",
    "    def calcoperation(i,j):\n",
    "        answer[j-1:j+2] = [str(int(ops[i](int(answer[j-1]), int(answer[j+1]))))]\n",
    "\n",
    "    # answer takes input value from the textbox of tkinter\n",
    "    answer = list(tk_input.get().split())\n",
    "    # loops through the list and calculate based on --> calc_order \n",
    "    [[calcoperation(i,j) for i,j in zip(reversed(answer),reversed(range(len(answer)))) if oper == i] for oper in calc_order]\n",
    "    # clear the textbox of tkinter and displays the myresult\n",
    "    tk_input.delete(0, END)\n",
    "    tk_input.insert(0, answer)\n",
    "    \n",
    "    \n",
    "def buttonclear():\n",
    "    tk_input.delete(0, END)\n",
    "    "
   ]
  },
  {
   "cell_type": "code",
   "execution_count": 5,
   "metadata": {},
   "outputs": [],
   "source": [
    "button1 = Button(root, text ='1',padx = 12, pady = 4, command=button00)\n",
    "button2 = Button(root, text ='2',padx = 12, pady = 4, command=button01)\n",
    "button3 = Button(root, text ='3',padx = 12, pady = 4, command=button02)\n",
    "button4 = Button(root, text ='4',padx = 12, pady = 4, command=button03)\n",
    "button5 = Button(root, text ='5',padx = 12, pady = 4, command=button04)\n",
    "button6 = Button(root, text ='6',padx = 12, pady = 4, command=button05)\n",
    "button7 = Button(root, text ='7',padx = 12, pady = 4, command=button06)\n",
    "button8 = Button(root, text ='8',padx = 12, pady = 4, command=button07)\n",
    "button9 = Button(root, text ='9',padx = 12, pady = 4, command=button08)\n",
    "button0 = Button(root, text ='0',padx = 12, pady = 4, command=button09)\n",
    "buttonplus = Button(root, text ='+',padx = 11, pady = 4, command=buttonplus)\n",
    "buttonsubract = Button(root, text ='-',padx = 13, pady = 4, command=buttonsubract)\n",
    "buttonmultiply = Button(root, text ='*',padx = 12, pady = 4, command=buttonmultiply)\n",
    "buttondivide = Button(root, text ='/',padx = 12, pady = 4, command=buttondivide)\n",
    "buttonequal = Button(root, text ='=',padx = 11, pady = 4, command=buttonequal)\n",
    "buttonclear = Button(root, text ='Clear',padx = 42, pady = 4,  command=buttonclear)\n",
    "\n"
   ]
  },
  {
   "cell_type": "code",
   "execution_count": 6,
   "metadata": {},
   "outputs": [],
   "source": [
    "button1.grid(row=3, column=0)\n",
    "button2.grid(row=3, column=1)\n",
    "button3.grid(row=3, column=2)\n",
    "button4.grid(row=2, column=0)\n",
    "button5.grid(row=2, column=1)\n",
    "button6.grid(row=2, column=2)\n",
    "button7.grid(row=1, column=0)\n",
    "button8.grid(row=1, column=1)\n",
    "button9.grid(row=1, column=2)\n",
    "buttonplus.grid(row=4, column=0)\n",
    "button0.grid(row=4, column=1)\n",
    "buttonsubract.grid(row=4, column=2)\n",
    "buttonmultiply.grid(row=5, column=0)\n",
    "buttondivide.grid(row=5, column=1)\n",
    "buttonequal.grid(row=5, column=2)\n",
    "buttonclear.grid(row=6,column=0,columnspan=3)\n"
   ]
  },
  {
   "cell_type": "code",
   "execution_count": null,
   "metadata": {},
   "outputs": [],
   "source": [
    "root.mainloop()"
   ]
  },
  {
   "cell_type": "markdown",
   "metadata": {},
   "source": [
    "## Rough"
   ]
  },
  {
   "cell_type": "code",
   "execution_count": 156,
   "metadata": {},
   "outputs": [
    {
     "name": "stdout",
     "output_type": "stream",
     "text": [
      "23 * 8\n",
      "23 / 184\n",
      "8 + 8\n",
      "16 + 2\n"
     ]
    },
    {
     "data": {
      "text/plain": [
       "['18']"
      ]
     },
     "execution_count": 156,
     "metadata": {},
     "output_type": "execute_result"
    }
   ],
   "source": [
    "# def calcoperation(i,j):\n",
    "#     print(answer[j+1],answer[j],answer[j-1])\n",
    "#     answer[j-1:j+2] = [str(int(ops[i](int(answer[j-1]), int(answer[j+1]))))]\n",
    "\n",
    "# # answer takes input value from the textbox of tkinter\n",
    "# answer = list('2 + 8 + 8 * 23 / 23'.split())\n",
    "# # loops through the list and calculate based on --> calc_order \n",
    "# [[calcoperation(i,j) for i,j in zip(reversed(answer),reversed(range(len(answer)))) if oper == i] for oper in calc_order]\n",
    "# answer"
   ]
  },
  {
   "cell_type": "code",
   "execution_count": 39,
   "metadata": {},
   "outputs": [
    {
     "name": "stdout",
     "output_type": "stream",
     "text": [
      "['-3370']\n"
     ]
    }
   ],
   "source": [
    "# for i in reversed(string):\n",
    "#     if i in ops:\n",
    "#         string[string.index(i)-1:string.index(i)+2] = [str(ops[i](int(string[string.index(i)-1]), int(string[string.index(i)+1])))]\n",
    "# print(string)"
   ]
  },
  {
   "cell_type": "code",
   "execution_count": null,
   "metadata": {},
   "outputs": [],
   "source": [
    "# [calcoperation(i,j) for i,j in zip(reversed(string),reversed(range(len(string)))) if '*' == i]\n",
    "# [calcoperation(i,j) for i,j in zip(reversed(string),reversed(range(len(string)))) if '/' == i]\n",
    "# [calcoperation(i,j) for i,j in zip(reversed(string),reversed(range(len(string)))) if '+' == i]\n",
    "# [calcoperation(i,j) for i,j in zip(reversed(string),reversed(range(len(string)))) if '-' == i]"
   ]
  }
 ],
 "metadata": {
  "kernelspec": {
   "display_name": "Python 3 (ipykernel)",
   "language": "python",
   "name": "python3"
  },
  "language_info": {
   "codemirror_mode": {
    "name": "ipython",
    "version": 3
   },
   "file_extension": ".py",
   "mimetype": "text/x-python",
   "name": "python",
   "nbconvert_exporter": "python",
   "pygments_lexer": "ipython3",
   "version": "3.8.12"
  }
 },
 "nbformat": 4,
 "nbformat_minor": 4
}
